{
 "cells": [
  {
   "cell_type": "code",
   "execution_count": 1,
   "metadata": {},
   "outputs": [],
   "source": [
    "import pandas as pd"
   ]
  },
  {
   "cell_type": "code",
   "execution_count": 2,
   "metadata": {},
   "outputs": [
    {
     "data": {
      "text/html": [
       "<div>\n",
       "<style scoped>\n",
       "    .dataframe tbody tr th:only-of-type {\n",
       "        vertical-align: middle;\n",
       "    }\n",
       "\n",
       "    .dataframe tbody tr th {\n",
       "        vertical-align: top;\n",
       "    }\n",
       "\n",
       "    .dataframe thead th {\n",
       "        text-align: right;\n",
       "    }\n",
       "</style>\n",
       "<table border=\"1\" class=\"dataframe\">\n",
       "  <thead>\n",
       "    <tr style=\"text-align: right;\">\n",
       "      <th></th>\n",
       "      <th>text</th>\n",
       "    </tr>\n",
       "  </thead>\n",
       "  <tbody>\n",
       "    <tr>\n",
       "      <th>0</th>\n",
       "      <td>جنہیں ہم نے کتاب دی  ہے  وہ تو جو کچھ آپ پر ات...</td>\n",
       "    </tr>\n",
       "    <tr>\n",
       "      <th>1</th>\n",
       "      <td>شیعہ جو گالیاں بکواس صحابہ اور امہات المو نین ...</td>\n",
       "    </tr>\n",
       "    <tr>\n",
       "      <th>2</th>\n",
       "      <td>🏴پہچان🏴پہچان🏴پہچان🏴پہچان🏴پہچان🏴پہچان🏴پہچان🏴پہچ...</td>\n",
       "    </tr>\n",
       "    <tr>\n",
       "      <th>3</th>\n",
       "      <td>آج جتنے بھی میڈیا کا سہارا لے کر دین  کی باتیں...</td>\n",
       "    </tr>\n",
       "    <tr>\n",
       "      <th>4</th>\n",
       "      <td>کھاتے  اگر  نہ  گندم  جنت  میں  بابا  آدم ،&lt;br...</td>\n",
       "    </tr>\n",
       "  </tbody>\n",
       "</table>\n",
       "</div>"
      ],
      "text/plain": [
       "                                                text\n",
       "0  جنہیں ہم نے کتاب دی  ہے  وہ تو جو کچھ آپ پر ات...\n",
       "1  شیعہ جو گالیاں بکواس صحابہ اور امہات المو نین ...\n",
       "2  🏴پہچان🏴پہچان🏴پہچان🏴پہچان🏴پہچان🏴پہچان🏴پہچان🏴پہچ...\n",
       "3  آج جتنے بھی میڈیا کا سہارا لے کر دین  کی باتیں...\n",
       "4  کھاتے  اگر  نہ  گندم  جنت  میں  بابا  آدم ،<br..."
      ]
     },
     "execution_count": 2,
     "metadata": {},
     "output_type": "execute_result"
    }
   ],
   "source": [
    "df = pd.read_csv(\"hatespeech- alimirzavids.csv\")\n",
    "df.head()"
   ]
  },
  {
   "cell_type": "code",
   "execution_count": 3,
   "metadata": {},
   "outputs": [],
   "source": [
    "import pandas as pd\n",
    "import re\n",
    "\n",
    "def clean_urdu_text(text):\n",
    "    # Remove HTML tags\n",
    "    text = re.sub(r'<.*?>', '', text)\n",
    "    \n",
    "    # Remove English words\n",
    "    text = re.sub(r'[a-zA-Z]', '', text)\n",
    "    \n",
    "    # Remove emojis\n",
    "    text = re.sub(r'[\\U0001F600-\\U0001F64F\\U0001F300-\\U0001F5FF\\U0001F680-\\U0001F6FF\\U0001F700-\\U0001F77F\\U0001F780-\\U0001F7FF\\U0001F800-\\U0001F8FF\\U0001F900-\\U0001F9FF\\U0001FA00-\\U0001FA6F\\U0001FA70-\\U0001FAFF\\U00002702-\\U000027B0\\U000024C2-\\U0001F251]', '', text)\n",
    "    \n",
    "    # Remove non-Urdu characters excluding space\n",
    "    text = re.sub(r'[^؀-ۿ ]', '', text)\n",
    "    \n",
    "    return text\n",
    "\n",
    "# Load CSV file into a pandas DataFrame\n",
    "\n",
    "\n",
    "# Clean the 'comments' column and save only the cleaned comments to a new CSV file\n",
    "df['cleaned_comments'] = df['text'].apply(clean_urdu_text)\n",
    "cleaned_df = df[['cleaned_comments']]\n",
    "\n",
    "# Save the cleaned comments to a new CSV file\n",
    "cleaned_df.to_csv('cleaned_urdu_comments.csv', index=False)\n"
   ]
  },
  {
   "cell_type": "code",
   "execution_count": 4,
   "metadata": {},
   "outputs": [],
   "source": [
    "cleaned_df.to_excel(\"cleaned_urdu_comments-Ali-Mirza.xlsx\", index=False)"
   ]
  },
  {
   "cell_type": "code",
   "execution_count": null,
   "metadata": {},
   "outputs": [],
   "source": []
  }
 ],
 "metadata": {
  "kernelspec": {
   "display_name": "venv",
   "language": "python",
   "name": "python3"
  },
  "language_info": {
   "codemirror_mode": {
    "name": "ipython",
    "version": 3
   },
   "file_extension": ".py",
   "mimetype": "text/x-python",
   "name": "python",
   "nbconvert_exporter": "python",
   "pygments_lexer": "ipython3",
   "version": "3.10.9"
  }
 },
 "nbformat": 4,
 "nbformat_minor": 2
}
