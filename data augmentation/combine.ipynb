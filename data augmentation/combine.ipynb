{
 "cells": [
  {
   "cell_type": "code",
   "execution_count": 55,
   "metadata": {},
   "outputs": [],
   "source": [
    "import pandas as pd\n",
    "import spacy\n",
    "from sklearn.feature_extraction.text import TfidfVectorizer\n",
    "from sklearn.model_selection import train_test_split\n",
    "from sklearn.ensemble import RandomForestClassifier\n",
    "from sklearn import metrics\n",
    "\n",
    "nlp = spacy.blank('ur')\n",
    "\n",
    "import numpy as np"
   ]
  },
  {
   "cell_type": "code",
   "execution_count": 20,
   "metadata": {},
   "outputs": [],
   "source": [
    "faraz = pd.read_excel('Faraz Labels.xlsx')\n",
    "jibran = pd.read_excel('Jibran Labels.xlsx')"
   ]
  },
  {
   "cell_type": "code",
   "execution_count": 21,
   "metadata": {},
   "outputs": [
    {
     "name": "stdout",
     "output_type": "stream",
     "text": [
      "                                                Text Label (h/o)\n",
      "0                             کہ کے لے لی شام دلے کی           o\n",
      "1  اب اگر اس نے کچھ جواب دیا تو اس کی گانڈ مار دی...           o\n",
      "2  اب ان چوتیوں نے وہ جو کنسرٹ ہو رہا تھا وہ بھی ...           h\n",
      "3  اب ان کی گانڈ میں ہاتھ ڈال کر انتڑیاں نکالے گا...           o\n",
      "4  اب تو اتنی مار دی تیری بھائی نے کہ اب تو شادی ...           o\n",
      "                                                Text Label (h/o)\n",
      "0                             کہ کے لے لی شام دلے کی           o\n",
      "1  اب اگر اس نے کچھ جواب دیا تو اس کی گانڈ مار دی...           o\n",
      "2  اب ان چوتیوں نے وہ جو کنسرٹ ہو رہا تھا وہ بھی ...           h\n",
      "3  اب ان کی گانڈ میں ہاتھ ڈال کر انتڑیاں نکالے گا...           o\n",
      "4  اب تو اتنی مار دی تیری بھائی نے کہ اب تو شادی ...           o\n"
     ]
    }
   ],
   "source": [
    "print(faraz.head())\n",
    "print(jibran.head())"
   ]
  },
  {
   "cell_type": "code",
   "execution_count": 22,
   "metadata": {},
   "outputs": [
    {
     "name": "stdout",
     "output_type": "stream",
     "text": [
      "(1135, 2)\n",
      "(1135, 2)\n"
     ]
    }
   ],
   "source": [
    "print(faraz.shape)\n",
    "print(jibran.shape)\n",
    "##rename column name Label (h/o) to label\n",
    "faraz = faraz.rename(columns={'Label (h/o)':'label'})\n",
    "jibran = jibran.rename(columns={'Label (h/o)':'label'})"
   ]
  },
  {
   "cell_type": "code",
   "execution_count": 15,
   "metadata": {},
   "outputs": [],
   "source": [
    "merged_df = pd.merge(faraz, jibran, on='Text', suffixes=('_faraz', '_jibran'))\n",
    "\n",
    "# Filter rows where the labels don't match\n",
    "disagreed_df = merged_df[merged_df['label_faraz'] != merged_df['label_jibran']]\n",
    "\n",
    "# Create a new dataframe with the disagreed data\n",
    "disagreed_labels_df = pd.DataFrame({\n",
    "    'Text': disagreed_df['Text'],\n",
    "    'label_faraz': disagreed_df['label_faraz'],\n",
    "    'label_jibran': disagreed_df['label_jibran']\n",
    "})\n",
    "\n",
    "# Save the new dataframe to a CSV file or any other desired format\n",
    "disagreed_labels_df.to_csv('disagreed_labels.csv', index=False)"
   ]
  },
  {
   "cell_type": "code",
   "execution_count": 18,
   "metadata": {},
   "outputs": [
    {
     "data": {
      "text/html": [
       "<div>\n",
       "<style scoped>\n",
       "    .dataframe tbody tr th:only-of-type {\n",
       "        vertical-align: middle;\n",
       "    }\n",
       "\n",
       "    .dataframe tbody tr th {\n",
       "        vertical-align: top;\n",
       "    }\n",
       "\n",
       "    .dataframe thead th {\n",
       "        text-align: right;\n",
       "    }\n",
       "</style>\n",
       "<table border=\"1\" class=\"dataframe\">\n",
       "  <thead>\n",
       "    <tr style=\"text-align: right;\">\n",
       "      <th></th>\n",
       "      <th>Text</th>\n",
       "      <th>label</th>\n",
       "    </tr>\n",
       "  </thead>\n",
       "  <tbody>\n",
       "    <tr>\n",
       "      <th>0</th>\n",
       "      <td>کہ کے لے لی شام دلے کی</td>\n",
       "      <td>o</td>\n",
       "    </tr>\n",
       "    <tr>\n",
       "      <th>1</th>\n",
       "      <td>اب اگر اس نے کچھ جواب دیا تو اس کی گانڈ مار دی...</td>\n",
       "      <td>o</td>\n",
       "    </tr>\n",
       "    <tr>\n",
       "      <th>2</th>\n",
       "      <td>اب ان چوتیوں نے وہ جو کنسرٹ ہو رہا تھا وہ بھی ...</td>\n",
       "      <td>h</td>\n",
       "    </tr>\n",
       "    <tr>\n",
       "      <th>3</th>\n",
       "      <td>اب ان کی گانڈ میں ہاتھ ڈال کر انتڑیاں نکالے گا...</td>\n",
       "      <td>o</td>\n",
       "    </tr>\n",
       "    <tr>\n",
       "      <th>4</th>\n",
       "      <td>اب تو اتنی مار دی تیری بھائی نے کہ اب تو شادی ...</td>\n",
       "      <td>o</td>\n",
       "    </tr>\n",
       "  </tbody>\n",
       "</table>\n",
       "</div>"
      ],
      "text/plain": [
       "                                                Text label\n",
       "0                             کہ کے لے لی شام دلے کی     o\n",
       "1  اب اگر اس نے کچھ جواب دیا تو اس کی گانڈ مار دی...     o\n",
       "2  اب ان چوتیوں نے وہ جو کنسرٹ ہو رہا تھا وہ بھی ...     h\n",
       "3  اب ان کی گانڈ میں ہاتھ ڈال کر انتڑیاں نکالے گا...     o\n",
       "4  اب تو اتنی مار دی تیری بھائی نے کہ اب تو شادی ...     o"
      ]
     },
     "execution_count": 18,
     "metadata": {},
     "output_type": "execute_result"
    }
   ],
   "source": [
    "disagreed_labels_df.head()\n",
    "faraz.head()\n",
    "jibran.head()\n"
   ]
  },
  {
   "cell_type": "code",
   "execution_count": 23,
   "metadata": {},
   "outputs": [
    {
     "name": "stderr",
     "output_type": "stream",
     "text": [
      "C:\\Users\\jibra\\AppData\\Local\\Temp\\ipykernel_28544\\3986893872.py:8: SettingWithCopyWarning: \n",
      "A value is trying to be set on a copy of a slice from a DataFrame.\n",
      "Try using .loc[row_indexer,col_indexer] = value instead\n",
      "\n",
      "See the caveats in the documentation: https://pandas.pydata.org/pandas-docs/stable/user_guide/indexing.html#returning-a-view-versus-a-copy\n",
      "  disagreed_df['chosen_annotator'] = random_assignment\n",
      "C:\\Users\\jibra\\AppData\\Local\\Temp\\ipykernel_28544\\3986893872.py:9: SettingWithCopyWarning: \n",
      "A value is trying to be set on a copy of a slice from a DataFrame.\n",
      "Try using .loc[row_indexer,col_indexer] = value instead\n",
      "\n",
      "See the caveats in the documentation: https://pandas.pydata.org/pandas-docs/stable/user_guide/indexing.html#returning-a-view-versus-a-copy\n",
      "  disagreed_df['final_label'] = np.where(disagreed_df['chosen_annotator'] == 'faraz', disagreed_df['label_faraz'], disagreed_df['label_jibran'])\n"
     ]
    }
   ],
   "source": [
    "merged_df = pd.merge(faraz, jibran, on='Text', suffixes=('_faraz', '_jibran'))\n",
    "\n",
    "# Filter rows where the labels don't match\n",
    "disagreed_df = merged_df[merged_df['label_faraz'] != merged_df['label_jibran']]\n",
    "\n",
    "# Randomly assign one annotator's label for each disagreed example\n",
    "random_assignment = np.random.choice(['faraz', 'jibran'], size=len(disagreed_df))\n",
    "disagreed_df['chosen_annotator'] = random_assignment\n",
    "disagreed_df['final_label'] = np.where(disagreed_df['chosen_annotator'] == 'faraz', disagreed_df['label_faraz'], disagreed_df['label_jibran'])\n",
    "\n",
    "# Create a new dataframe with the final assigned labels\n",
    "final_labels_df = pd.DataFrame({\n",
    "    'Text': disagreed_df['Text'],\n",
    "    'final_label': disagreed_df['final_label']\n",
    "})\n",
    "\n",
    "# Save the new dataframe to a CSV file or any other desired format\n",
    "final_labels_df.to_csv('final_assigned_labels.csv', index=False)"
   ]
  },
  {
   "cell_type": "code",
   "execution_count": 29,
   "metadata": {},
   "outputs": [
    {
     "name": "stdout",
     "output_type": "stream",
     "text": [
      "(991, 2) (991, 2)\n"
     ]
    }
   ],
   "source": [
    "faraz = faraz[~faraz['Text'].isin(final_labels_df['Text'])]\n",
    "jibran = jibran[~jibran['Text'].isin(final_labels_df['Text'])]\n",
    "print(faraz.shape, jibran.shape)\n",
    "#merge faraz, jibran, final_labels_df removing duplicates"
   ]
  },
  {
   "cell_type": "code",
   "execution_count": 30,
   "metadata": {},
   "outputs": [],
   "source": [
    "merged_df = pd.concat([jibran, final_labels_df]).drop_duplicates()\n"
   ]
  },
  {
   "cell_type": "code",
   "execution_count": 40,
   "metadata": {},
   "outputs": [],
   "source": [
    "\n",
    "merged_df.shape\n",
    "#write merged_df to csv\n",
    "merged_df.to_csv('combined_dataset.csv', index=False)\n"
   ]
  },
  {
   "cell_type": "code",
   "execution_count": 42,
   "metadata": {},
   "outputs": [
    {
     "data": {
      "text/html": [
       "<div>\n",
       "<style scoped>\n",
       "    .dataframe tbody tr th:only-of-type {\n",
       "        vertical-align: middle;\n",
       "    }\n",
       "\n",
       "    .dataframe tbody tr th {\n",
       "        vertical-align: top;\n",
       "    }\n",
       "\n",
       "    .dataframe thead th {\n",
       "        text-align: right;\n",
       "    }\n",
       "</style>\n",
       "<table border=\"1\" class=\"dataframe\">\n",
       "  <thead>\n",
       "    <tr style=\"text-align: right;\">\n",
       "      <th></th>\n",
       "      <th>Text</th>\n",
       "      <th>label</th>\n",
       "    </tr>\n",
       "  </thead>\n",
       "  <tbody>\n",
       "    <tr>\n",
       "      <th>0</th>\n",
       "      <td>کہ کے لے لی شام دلے کی</td>\n",
       "      <td>o</td>\n",
       "    </tr>\n",
       "    <tr>\n",
       "      <th>1</th>\n",
       "      <td>اب اگر اس نے کچھ جواب دیا تو اس کی گانڈ مار دی...</td>\n",
       "      <td>o</td>\n",
       "    </tr>\n",
       "    <tr>\n",
       "      <th>2</th>\n",
       "      <td>اب ان چوتیوں نے وہ جو کنسرٹ ہو رہا تھا وہ بھی ...</td>\n",
       "      <td>h</td>\n",
       "    </tr>\n",
       "    <tr>\n",
       "      <th>3</th>\n",
       "      <td>اب ان کی گانڈ میں ہاتھ ڈال کر انتڑیاں نکالے گا...</td>\n",
       "      <td>o</td>\n",
       "    </tr>\n",
       "    <tr>\n",
       "      <th>4</th>\n",
       "      <td>اب تو اتنی مار دی تیری بھائی نے کہ اب تو شادی ...</td>\n",
       "      <td>o</td>\n",
       "    </tr>\n",
       "  </tbody>\n",
       "</table>\n",
       "</div>"
      ],
      "text/plain": [
       "                                                Text label\n",
       "0                             کہ کے لے لی شام دلے کی     o\n",
       "1  اب اگر اس نے کچھ جواب دیا تو اس کی گانڈ مار دی...     o\n",
       "2  اب ان چوتیوں نے وہ جو کنسرٹ ہو رہا تھا وہ بھی ...     h\n",
       "3  اب ان کی گانڈ میں ہاتھ ڈال کر انتڑیاں نکالے گا...     o\n",
       "4  اب تو اتنی مار دی تیری بھائی نے کہ اب تو شادی ...     o"
      ]
     },
     "execution_count": 42,
     "metadata": {},
     "output_type": "execute_result"
    }
   ],
   "source": [
    "merged_df.head()"
   ]
  },
  {
   "cell_type": "code",
   "execution_count": 37,
   "metadata": {},
   "outputs": [
    {
     "data": {
      "text/html": [
       "<div>\n",
       "<style scoped>\n",
       "    .dataframe tbody tr th:only-of-type {\n",
       "        vertical-align: middle;\n",
       "    }\n",
       "\n",
       "    .dataframe tbody tr th {\n",
       "        vertical-align: top;\n",
       "    }\n",
       "\n",
       "    .dataframe thead th {\n",
       "        text-align: right;\n",
       "    }\n",
       "</style>\n",
       "<table border=\"1\" class=\"dataframe\">\n",
       "  <thead>\n",
       "    <tr style=\"text-align: right;\">\n",
       "      <th></th>\n",
       "      <th>Text</th>\n",
       "      <th>Label</th>\n",
       "    </tr>\n",
       "  </thead>\n",
       "  <tbody>\n",
       "    <tr>\n",
       "      <th>0</th>\n",
       "      <td>دس ڈالر تو حبشی کا چُوپہ لگا کر گوں رایہ حرامی...</td>\n",
       "      <td>o</td>\n",
       "    </tr>\n",
       "    <tr>\n",
       "      <th>1</th>\n",
       "      <td>تیری کڑی دی پھدی چے حبشی دا لن گانڈو باپ کی او...</td>\n",
       "      <td>o</td>\n",
       "    </tr>\n",
       "    <tr>\n",
       "      <th>2</th>\n",
       "      <td>تم تو کسی ہندو مندر کے پجاری کی فصل ہو جو کُم ...</td>\n",
       "      <td>h</td>\n",
       "    </tr>\n",
       "    <tr>\n",
       "      <th>3</th>\n",
       "      <td>بيشرم بيغيرت ہندو مودی کے حبشی بچے تيرے جيسے ک...</td>\n",
       "      <td>h</td>\n",
       "    </tr>\n",
       "    <tr>\n",
       "      <th>4</th>\n",
       "      <td>انڈين مودی کے عمار حبشی پِلے کيا يہ رنگ بازی ت...</td>\n",
       "      <td>o</td>\n",
       "    </tr>\n",
       "  </tbody>\n",
       "</table>\n",
       "</div>"
      ],
      "text/plain": [
       "                                                Text Label\n",
       "0  دس ڈالر تو حبشی کا چُوپہ لگا کر گوں رایہ حرامی...     o\n",
       "1  تیری کڑی دی پھدی چے حبشی دا لن گانڈو باپ کی او...     o\n",
       "2  تم تو کسی ہندو مندر کے پجاری کی فصل ہو جو کُم ...     h\n",
       "3  بيشرم بيغيرت ہندو مودی کے حبشی بچے تيرے جيسے ک...     h\n",
       "4  انڈين مودی کے عمار حبشی پِلے کيا يہ رنگ بازی ت...     o"
      ]
     },
     "execution_count": 37,
     "metadata": {},
     "output_type": "execute_result"
    }
   ],
   "source": [
    "mob_data = pd.read_csv('Hs Urdu - HS Urdu.csv')\n",
    "mob_data.head()"
   ]
  },
  {
   "cell_type": "code",
   "execution_count": 48,
   "metadata": {},
   "outputs": [],
   "source": [
    "#renamed merge_data label to Label\n",
    "merged_df = merged_df.rename(columns={'label':'Label'})"
   ]
  },
  {
   "cell_type": "code",
   "execution_count": 50,
   "metadata": {},
   "outputs": [],
   "source": [
    "#combine merged_data and mob_data\n",
    "combined_df = pd.concat([merged_df, mob_data])"
   ]
  },
  {
   "cell_type": "code",
   "execution_count": 52,
   "metadata": {},
   "outputs": [
    {
     "data": {
      "text/plain": [
       "(9005, 2)"
      ]
     },
     "execution_count": 52,
     "metadata": {},
     "output_type": "execute_result"
    }
   ],
   "source": [
    "# combined_df.head()\n",
    "combined_df.shape"
   ]
  },
  {
   "cell_type": "code",
   "execution_count": 54,
   "metadata": {},
   "outputs": [],
   "source": [
    "# write combined_df to final_combined.csv\n",
    "combined_df.to_csv('final_combined_mobandus.csv', index=False)"
   ]
  },
  {
   "cell_type": "code",
   "execution_count": 56,
   "metadata": {},
   "outputs": [],
   "source": [
    "combined_df.to_excel('final_combined_mobandus.xlsx', index=False)"
   ]
  },
  {
   "cell_type": "code",
   "execution_count": null,
   "metadata": {},
   "outputs": [],
   "source": []
  }
 ],
 "metadata": {
  "kernelspec": {
   "display_name": "venv",
   "language": "python",
   "name": "python3"
  },
  "language_info": {
   "codemirror_mode": {
    "name": "ipython",
    "version": 3
   },
   "file_extension": ".py",
   "mimetype": "text/x-python",
   "name": "python",
   "nbconvert_exporter": "python",
   "pygments_lexer": "ipython3",
   "version": "3.10.9"
  }
 },
 "nbformat": 4,
 "nbformat_minor": 2
}
